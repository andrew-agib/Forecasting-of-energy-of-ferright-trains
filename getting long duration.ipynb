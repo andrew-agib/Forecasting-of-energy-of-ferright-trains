{
 "cells": [
  {
   "cell_type": "code",
   "execution_count": null,
   "metadata": {},
   "outputs": [],
   "source": [
    "import pandas as pd\n",
    "import matplotlib.pyplot as plt\n",
    "import seaborn as sns\n",
    "import xlrd\n",
    "import xlwt\n",
    "import operator\n",
    "import numpy as np\n",
    "import array \n",
    "import operator\n",
    "import datetime\n",
    "from datetime import timedelta\n",
    "TrainLocation= pd.read_excel(r'C:\\Users\\49173\\Desktop\\Personal_files\\complet_modela\\model18.xlsx', parse_dates=[\"ZLM_Istmeldungen\"], day_first=False)\n",
    "Train=pd.read_excel(r'C:\\Users\\49173\\Desktop\\Personal_files\\energy\\postive\\m6.xlsx', parse_dates=[\"Datum\"], day_first=False)"
   ]
  },
  {
   "cell_type": "code",
   "execution_count": null,
   "metadata": {},
   "outputs": [],
   "source": [
    "energy=0\n",
    "duration=0\n",
    "for i in range(0,len(TrainLocation[\"Locnumber\"])-3):\n",
    "        print(i)\n",
    "        number=int(TrainLocation.loc[i,\"Locnumber\"])\n",
    "        month=(TrainLocation.loc[i,\"ZLM_Istmeldungen\"]).month\n",
    "        day=TrainLocation.loc[i,\"ZLM_Istmeldungen\"].day\n",
    "        hour=TrainLocation.loc[i,\"ZLM_Istmeldungen\"].hour\n",
    "        minute=(TrainLocation.loc[i+2,\"ZLM_Istmeldungen\"].minute)%15\n",
    "        nnumber=int(TrainLocation.loc[i+1,\"Locnumber\"])\n",
    "        nmonth=(TrainLocation.loc[i+1,\"ZLM_Istmeldungen\"]).month\n",
    "        nday=TrainLocation.loc[i+1,\"ZLM_Istmeldungen\"].day\n",
    "        nhour=TrainLocation.loc[i+1,\"ZLM_Istmeldungen\"].hour\n",
    "        nminute=(TrainLocation.loc[i+2,\"ZLM_Istmeldungen\"].minute)%15\n",
    "        afnumber=int(TrainLocation.loc[i+2,\"Locnumber\"])\n",
    "        afmonth=(TrainLocation.loc[i+2,\"ZLM_Istmeldungen\"]).month\n",
    "        afday=TrainLocation.loc[i+2,\"ZLM_Istmeldungen\"].day\n",
    "        afhour=TrainLocation.loc[i+2,\"ZLM_Istmeldungen\"].hour\n",
    "        afminute=(TrainLocation.loc[i+2,\"ZLM_Istmeldungen\"].minute)%15\n",
    "        if number==nnumber==afnumber and  day==nday==afday and minute=nminute==afminute:\n",
    "            if TrainLocation.loc[i+1,\"ZLM_Istmeldungen\"]-TrainLocation.loc[i,\"ZLM_Istmeldungen\"]>TrainLocation.loc[i+2,\"ZLM_Istmeldungen\"]-TrainLocation.loc[i+1,\"ZLM_Istmeldungen\"]:\n",
    "                TrainLocation=TrainLocation.drop(i+2,axis=0)\n",
    "            else:\n",
    "                TrainLocation=TrainLocation.drop(i+1,axis=0)\n",
    "                        \n",
    "TrainLocation.to_excel(r'month6p.xlsx')"
   ]
  }
 ],
 "metadata": {
  "kernelspec": {
   "display_name": "Python 3",
   "language": "python",
   "name": "python3"
  },
  "language_info": {
   "codemirror_mode": {
    "name": "ipython",
    "version": 3
   },
   "file_extension": ".py",
   "mimetype": "text/x-python",
   "name": "python",
   "nbconvert_exporter": "python",
   "pygments_lexer": "ipython3",
   "version": "3.7.3"
  }
 },
 "nbformat": 4,
 "nbformat_minor": 2
}
