{
 "cells": [
  {
   "cell_type": "code",
   "execution_count": null,
   "metadata": {},
   "outputs": [],
   "source": [
    "import numpy as np\n",
    "import matplotlib.pyplot as plt\n",
    "from sklearn.preprocessing import PolynomialFeatures\n",
    "from sklearn.linear_model import LinearRegression\n",
    "from sklearn.pipeline import Pipeline, make_pipeline\n",
    "import pandas as pd\n",
    "import seaborn as sns\n",
    "import xlrd\n",
    "import xlwt\n",
    "import operator\n",
    "import operator\n",
    "from scipy import stats\n",
    "from sklearn import preprocessing\n",
    "from sklearn.model_selection import KFold\n",
    "from sklearn.model_selection import train_test_split\n",
    "TrainLocation= pd.read_excel(r'C:\\Users\\49173\\Desktop\\Personal_files\\energy\\iqrremoved.xlsx')\n"
   ]
  },
  {
   "cell_type": "code",
   "execution_count": null,
   "metadata": {},
   "outputs": [],
   "source": [
    "TrainLocation=TrainLocation.fillna(0)\n",
    "x = TrainLocation[[\"Inclination\",\"Distance\",\"Weight\",\"TEU_percentage\",\"avg_speed\",\"Length\"]]\n",
    "#x = TrainLocation[[\"connect\"]]\n",
    "\n",
    "y= TrainLocation[\"Consumed Energy\"]\n"
   ]
  },
  {
   "cell_type": "code",
   "execution_count": null,
   "metadata": {},
   "outputs": [],
   "source": [
    "X_train, X_test, y_train, y_test = train_test_split( x, y, test_size = 0.3, random_state = 100)"
   ]
  },
  {
   "cell_type": "markdown",
   "metadata": {},
   "source": [
    "pipline"
   ]
  },
  {
   "cell_type": "code",
   "execution_count": null,
   "metadata": {},
   "outputs": [],
   "source": [
    "model = make_pipeline(PolynomialFeatures(degree = 6),LinearRegression())\n",
    "scores = []\n",
    "kfold = KFold(n_splits=5, shuffle=True, random_state=42)\n",
    "for i, (train, test) in enumerate(kfold.split(x, y)):\n",
    "    model.fit(x.iloc[train], y.iloc[train])\n",
    "    score = model.score(x.iloc[test], y.iloc[test])\n",
    "    scores.append(score)\n",
    "print(scores)"
   ]
  },
  {
   "cell_type": "code",
   "execution_count": null,
   "metadata": {},
   "outputs": [],
   "source": [
    "predictions=model.predict(X_test)\n",
    "#plt.scatter(y_test,predictions)\n",
    "plt.xlabel('$y_{pred}$ in kwh' )\n",
    "plt.ylabel('$y_{test}$ in kwh')\n",
    "plt.scatter(predictions,y_test)\n",
    "a=[0,5,10,150,200,250,300,400,500,1000]\n",
    "b=[0,5,10,150,200,250,300,400,500,1000]\n",
    "\n",
    "plt.plot(a,b, 'r')\n",
    "plt.title('Energy consumption using pipeline method')\n",
    "plt.savefig(\"pipcompletef.png\", dpi=300)"
   ]
  },
  {
   "cell_type": "markdown",
   "metadata": {},
   "source": [
    "decisson tree"
   ]
  },
  {
   "cell_type": "code",
   "execution_count": null,
   "metadata": {},
   "outputs": [],
   "source": [
    "from sklearn.tree import DecisionTreeRegressor\n",
    "model = DecisionTreeRegressor()\n",
    "scores = []\n",
    "kfold = KFold(n_splits=5, shuffle=True, random_state=42)\n",
    "for i, (train, test) in enumerate(kfold.split(x, y)):\n",
    "    model.fit(x.iloc[train], y.iloc[train])\n",
    "    score = model.score(x.iloc[test], y.iloc[test])\n",
    "    scores.append(score)\n",
    "print(scores)"
   ]
  },
  {
   "cell_type": "code",
   "execution_count": null,
   "metadata": {},
   "outputs": [],
   "source": [
    "predictions=model.predict(X_test)\n",
    "#plt.scatter(y_test,predictions)\n",
    "plt.xlabel('$y_{pred}$ in kwh' )\n",
    "plt.ylabel('$y_{test}$ in kwh')\n",
    "plt.scatter(predictions,y_test)\n",
    "a=[0,5,10,150,200,250,300,400,500,1000]\n",
    "b=[0,5,10,150,200,250,300,400,500,1000]\n",
    "\n",
    "plt.plot(a,b, 'r')\n",
    "plt.title('Energy consumption using pipeline method')\n",
    "plt.savefig(\"pipcompletef.png\", dpi=300)"
   ]
  },
  {
   "cell_type": "markdown",
   "metadata": {},
   "source": [
    "Linear regression"
   ]
  },
  {
   "cell_type": "code",
   "execution_count": null,
   "metadata": {},
   "outputs": [],
   "source": [
    "model = LinearRegression()\n",
    "scores = []\n",
    "kfold = KFold(n_splits=5, shuffle=True, random_state=42)\n",
    "for i, (train, test) in enumerate(kfold.split(x, y)):\n",
    "    model.fit(x.iloc[train], y.iloc[train])\n",
    "    score = model.score(x.iloc[test], y.iloc[test])\n",
    "    scores.append(score)\n",
    "print(scores)"
   ]
  }
 ],
 "metadata": {
  "kernelspec": {
   "display_name": "Python 3",
   "language": "python",
   "name": "python3"
  },
  "language_info": {
   "codemirror_mode": {
    "name": "ipython",
    "version": 3
   },
   "file_extension": ".py",
   "mimetype": "text/x-python",
   "name": "python",
   "nbconvert_exporter": "python",
   "pygments_lexer": "ipython3",
   "version": "3.7.3"
  }
 },
 "nbformat": 4,
 "nbformat_minor": 2
}
