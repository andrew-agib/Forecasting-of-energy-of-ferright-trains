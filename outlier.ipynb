{
 "cells": [
  {
   "cell_type": "code",
   "execution_count": 1,
   "metadata": {},
   "outputs": [],
   "source": [
    "\n",
    "import numpy as np # linear algebra\n",
    "import pandas as pd\n",
    "TrainLocation= pd.read_excel(r'C:\\Users\\49173\\Desktop\\Personal_files\\energy\\iqr.xlsx')"
   ]
  },
  {
   "cell_type": "code",
   "execution_count": 9,
   "metadata": {},
   "outputs": [
    {
     "data": {
      "text/plain": [
       "38.00222222222222"
      ]
     },
     "execution_count": 9,
     "metadata": {},
     "output_type": "execute_result"
    }
   ],
   "source": [
    "TrainLocation.loc[1,\"Energy\"]"
   ]
  },
  {
   "cell_type": "code",
   "execution_count": 5,
   "metadata": {},
   "outputs": [
    {
     "name": "stdout",
     "output_type": "stream",
     "text": [
      "avg_speed           45.655090\n",
      "Inclination          5.000000\n",
      "Distance          3333.000000\n",
      "Weight             319.940000\n",
      "Length              49.750000\n",
      "TEU_percentage       0.243590\n",
      "Energy             103.110500\n",
      "Generated           18.988167\n",
      "dtype: float64\n"
     ]
    }
   ],
   "source": [
    "Q1 = TrainLocation.quantile(0.25)\n",
    "Q3 = TrainLocation.quantile(0.75)\n",
    "IQR = Q3 - Q1\n",
    "print(IQR)"
   ]
  },
  {
   "cell_type": "code",
   "execution_count": 6,
   "metadata": {},
   "outputs": [
    {
     "name": "stdout",
     "output_type": "stream",
     "text": [
      "       avg_speed  Inclination  Distance  Weight  Length  TEU_percentage  \\\n",
      "0          False        False     False   False   False           False   \n",
      "1          False        False     False   False   False           False   \n",
      "2          False        False     False   False   False           False   \n",
      "3          False        False     False   False   False           False   \n",
      "4          False        False     False   False   False           False   \n",
      "5           True        False     False   False   False           False   \n",
      "6          False        False     False   False   False           False   \n",
      "7          False        False      True   False   False           False   \n",
      "8          False        False     False   False   False           False   \n",
      "9          False        False      True   False   False           False   \n",
      "10         False        False      True   False   False           False   \n",
      "11         False        False     False   False   False           False   \n",
      "12         False        False     False   False   False           False   \n",
      "13         False        False     False   False   False           False   \n",
      "14         False        False      True   False   False           False   \n",
      "15         False        False     False   False   False           False   \n",
      "16         False        False     False   False   False           False   \n",
      "17         False        False     False   False   False           False   \n",
      "18         False        False     False   False   False           False   \n",
      "19         False        False     False   False   False           False   \n",
      "20          True        False     False   False   False           False   \n",
      "21         False        False     False   False   False           False   \n",
      "22         False        False     False   False   False           False   \n",
      "23         False        False     False   False   False           False   \n",
      "24         False        False     False   False   False           False   \n",
      "25         False        False     False   False   False           False   \n",
      "26         False        False     False   False   False           False   \n",
      "27         False        False     False   False   False           False   \n",
      "28         False        False     False   False   False           False   \n",
      "29         False        False     False   False   False           False   \n",
      "...          ...          ...       ...     ...     ...             ...   \n",
      "81558      False        False     False   False   False           False   \n",
      "81559      False        False     False   False   False           False   \n",
      "81560      False        False     False   False   False           False   \n",
      "81561      False        False     False   False   False           False   \n",
      "81562      False        False     False   False   False           False   \n",
      "81563      False        False     False   False   False           False   \n",
      "81564      False        False     False   False   False           False   \n",
      "81565      False        False     False   False   False           False   \n",
      "81566      False        False     False   False   False           False   \n",
      "81567      False        False     False   False   False           False   \n",
      "81568      False        False     False   False   False           False   \n",
      "81569      False        False     False   False   False           False   \n",
      "81570      False        False     False   False   False           False   \n",
      "81571      False        False     False   False   False           False   \n",
      "81572      False        False     False   False   False           False   \n",
      "81573      False        False     False   False   False           False   \n",
      "81574      False        False     False   False   False           False   \n",
      "81575      False        False     False   False   False           False   \n",
      "81576      False        False     False   False   False           False   \n",
      "81577      False        False     False   False   False           False   \n",
      "81578      False        False     False   False   False           False   \n",
      "81579      False        False     False   False   False           False   \n",
      "81580      False        False     False   False   False           False   \n",
      "81581      False        False     False   False   False           False   \n",
      "81582      False        False     False   False   False           False   \n",
      "81583      False        False     False   False   False           False   \n",
      "81584      False        False     False   False   False           False   \n",
      "81585      False        False     False   False   False           False   \n",
      "81586      False        False     False   False   False           False   \n",
      "81587      False        False     False   False   False           False   \n",
      "\n",
      "       Energy  Generated  \n",
      "0       False      False  \n",
      "1       False      False  \n",
      "2       False      False  \n",
      "3       False      False  \n",
      "4       False      False  \n",
      "5       False      False  \n",
      "6       False      False  \n",
      "7       False      False  \n",
      "8       False      False  \n",
      "9       False      False  \n",
      "10       True       True  \n",
      "11      False      False  \n",
      "12      False      False  \n",
      "13      False      False  \n",
      "14       True       True  \n",
      "15      False      False  \n",
      "16      False      False  \n",
      "17      False      False  \n",
      "18      False      False  \n",
      "19      False      False  \n",
      "20      False      False  \n",
      "21      False      False  \n",
      "22      False      False  \n",
      "23      False      False  \n",
      "24      False      False  \n",
      "25      False      False  \n",
      "26      False      False  \n",
      "27       True       True  \n",
      "28      False      False  \n",
      "29      False      False  \n",
      "...       ...        ...  \n",
      "81558   False      False  \n",
      "81559   False      False  \n",
      "81560   False      False  \n",
      "81561   False      False  \n",
      "81562   False      False  \n",
      "81563    True      False  \n",
      "81564   False      False  \n",
      "81565   False      False  \n",
      "81566   False      False  \n",
      "81567   False      False  \n",
      "81568   False      False  \n",
      "81569   False      False  \n",
      "81570   False      False  \n",
      "81571   False      False  \n",
      "81572   False      False  \n",
      "81573   False      False  \n",
      "81574   False      False  \n",
      "81575   False      False  \n",
      "81576   False      False  \n",
      "81577   False      False  \n",
      "81578   False      False  \n",
      "81579   False      False  \n",
      "81580   False      False  \n",
      "81581   False      False  \n",
      "81582   False      False  \n",
      "81583   False      False  \n",
      "81584   False      False  \n",
      "81585   False       True  \n",
      "81586   False       True  \n",
      "81587   False      False  \n",
      "\n",
      "[81588 rows x 8 columns]\n"
     ]
    }
   ],
   "source": [
    "w=(TrainLocation < (Q1 - 1.5 * IQR)) |(TrainLocation > (Q3 + 1.5 * IQR))\n",
    "print(w)"
   ]
  },
  {
   "cell_type": "code",
   "execution_count": 12,
   "metadata": {},
   "outputs": [
    {
     "data": {
      "text/plain": [
       "(63656, 8)"
      ]
     },
     "execution_count": 12,
     "metadata": {},
     "output_type": "execute_result"
    }
   ],
   "source": [
    "TrainLocation = TrainLocation[~((TrainLocation < (Q1 - 1.5 * IQR)) |(TrainLocation > (Q3 + 1.5 * IQR))).any(axis=1)]\n",
    "TrainLocation.shape"
   ]
  },
  {
   "cell_type": "code",
   "execution_count": 13,
   "metadata": {},
   "outputs": [],
   "source": [
    "TrainLocation.to_excel(r'C:\\Users\\49173\\Desktop\\Personal_files\\energy\\iqrremoved.xlsx')"
   ]
  },
  {
   "cell_type": "code",
   "execution_count": null,
   "metadata": {},
   "outputs": [],
   "source": []
  }
 ],
 "metadata": {
  "kernelspec": {
   "display_name": "Python 3",
   "language": "python",
   "name": "python3"
  },
  "language_info": {
   "codemirror_mode": {
    "name": "ipython",
    "version": 3
   },
   "file_extension": ".py",
   "mimetype": "text/x-python",
   "name": "python",
   "nbconvert_exporter": "python",
   "pygments_lexer": "ipython3",
   "version": "3.7.3"
  }
 },
 "nbformat": 4,
 "nbformat_minor": 2
}
