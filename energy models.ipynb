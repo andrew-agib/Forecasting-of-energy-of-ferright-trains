{
 "cells": [
  {
   "cell_type": "code",
   "execution_count": null,
   "metadata": {},
   "outputs": [],
   "source": [
    "import pandas as pd\n",
    "import matplotlib.pyplot as plt\n",
    "import seaborn as sns\n",
    "import xlrd\n",
    "import xlwt\n",
    "import operator\n",
    "import numpy as np\n",
    "import array \n",
    "import operator\n",
    "import datetime\n",
    "from datetime import timedelta\n",
    "TrainLocation= (pd.read_excel(r'C:\\Users\\49173\\Desktop\\Personal_files\\energy\\model.xlsx', \n",
    "                              parse_dates=[\"ZLM_Istmeldungen\"], day_first=False))\n",
    "Train=(pd.read_excel(r'C:\\Users\\49173\\Desktop\\Personal_files\\energy\\postive\\m6.xlsx', \n",
    "                     parse_dates=[\"Datum\"], day_first=False))"
   ]
  },
  {
   "cell_type": "code",
   "execution_count": null,
   "metadata": {},
   "outputs": [],
   "source": [
    "Train=Train.fillna(0)\n",
    "#Train\n",
    "print(TrainLocation.loc[10,\"ZLM_Istmeldungen\"].day)"
   ]
  },
  {
   "cell_type": "markdown",
   "metadata": {},
   "source": [
    "energy firs approach"
   ]
  },
  {
   "cell_type": "code",
   "execution_count": null,
   "metadata": {},
   "outputs": [],
   "source": [
    "energy=0\n",
    "duration=0\n",
    "for i in range(0,len(TrainLocation[\"Locnumber\"])-1):\n",
    "        print(i)\n",
    "        number=int(TrainLocation.loc[i,\"Locnumber\"])\n",
    "        month=(TrainLocation.loc[i,\"ZLM_Istmeldungen\"]).month\n",
    "        day=TrainLocation.loc[i,\"ZLM_Istmeldungen\"].day\n",
    "        hour=TrainLocation.loc[i,\"ZLM_Istmeldungen\"].hour\n",
    "        minute=int(TrainLocation.loc[i,\"ZLM_Istmeldungen\"].minute/15)\n",
    "        if TrainLocation.loc[i,\"SplitedMonth\"]==6 and TrainLocation.loc[i+1,\"SplitedMonth\"]==6:\n",
    "            for x in range (2,len(Train.columns)):\n",
    "                train=int(Train.columns[x])\n",
    "                for w in range(2,len(Train[\"Datum\"])):\n",
    "                    emonth=Train.loc[w,\"Datum\"].month\n",
    "                    eday=Train.loc[w,\"Datum\"].day\n",
    "                    ehour=Train.loc[w,\"Datum\"].hour\n",
    "                    eminute=int(Train.loc[w,\"Datum\"].minute/15)\n",
    "                    if number==train and month==emonth and day==eday and ehour==hour and minute==eminute:\n",
    "                        energy=Train.loc[w,Train.columns[x]]\n",
    "                        print(energy)\n",
    "                        TrainLocation.loc[i,\"Energy\"]=energy\n",
    "                        energy=0\n",
    "                        break\n",
    "TrainLocation.to_excel(r'month6p.xlsx')"
   ]
  },
  {
   "cell_type": "markdown",
   "metadata": {},
   "source": [
    "Assign percentage of energy for time windows for each station"
   ]
  },
  {
   "cell_type": "code",
   "execution_count": null,
   "metadata": {},
   "outputs": [],
   "source": [
    "energy=0\n",
    "duration=0\n",
    "get=False\n",
    "Train=(pd.read_excel(r'C:\\Users\\49173\\Desktop\\Personal_files\\energy\\postive\\m6.xlsx', \n",
    "                     parse_dates=[\"Datum\"], day_first=False))\n",
    "for i in range(0,len(TrainLocation[\"Locnumber\"])-1):\n",
    "        print(i)\n",
    "        number=int(TrainLocation.loc[i,\"Locnumber\"])\n",
    "        month=(TrainLocation.loc[i,\"ZLM_Istmeldungen\"]).month\n",
    "        day=TrainLocation.loc[i,\"ZLM_Istmeldungen\"].day\n",
    "        hour=TrainLocation.loc[i,\"ZLM_Istmeldungen\"].hour\n",
    "        minute=TrainLocation.loc[i,\"ZLM_Istmeldungen\"].minute\n",
    "        if TrainLocation.loc[i,\"SplitedMonth\"]==6 and TrainLocation.loc[i+1,\"SplitedMonth\"]==6:\n",
    "            for x in range (2,len(Train.columns)):\n",
    "                train=int(Train.columns[x])\n",
    "                for w in range(2,len(Train[\"Datum\"])):\n",
    "                    emonth=Train.loc[w,\"Datum\"].month\n",
    "                    eday=Train.loc[w,\"Datum\"].day\n",
    "                    ehour=Train.loc[w,\"Datum\"].hour\n",
    "                    eminute=Train.loc[w,\"Datum\"].minute\n",
    "                    difference=abs(minute-eminute)\n",
    "                    if number==train and month==emonth and day==eday and ehour==hour and difference<=14:\n",
    "                        if (TrainLocation.loc[i+1,\"ZLM_Istmeldungen\"].hour-TrainLocation.loc[i,\"ZLM_Istmeldungen\"].hour)<0:\n",
    "                            duration =(60-TrainLocation.loc[i,\"ZLM_Istmeldungen\"].minute)+(((60-TrainLocation.loc[i,\"ZLM_Istmeldungen\"].second))/60)+(TrainLocation.loc[i+1,\"ZLM_Istmeldungen\"].minute)+(((60-TrainLocation.loc[i+1,\"ZLM_Istmeldungen\"].second))/60)\n",
    "                        else:    \n",
    "                            duration = ((TrainLocation.loc[i+1,\"ZLM_Istmeldungen\"]-TrainLocation.loc[i,\"ZLM_Istmeldungen\"]).total_seconds())/60\n",
    "                        start=TrainLocation.loc[i,\"ZLM_Istmeldungen\"].minute + ((TrainLocation.loc[i,\"ZLM_Istmeldungen\"].second)/60)\n",
    "                        over=duration+start\n",
    "                        if start<=15 and over>=15 :\n",
    "                            percentage=15-start\n",
    "                            duration= duration-percentage\n",
    "                            get=True\n",
    "                            energy=energy+((percentage/15)*Train.loc[w,Train.columns[x]])\n",
    "                        elif 15<=start<30 and over>=30:\n",
    "                            percentage=30-start\n",
    "                            duration= duration-percentage\n",
    "                            energy=energy+((percentage/15)*Train.loc[w,Train.columns[x]])\n",
    "                            get=True\n",
    "                        elif 30<= start <45 and over>=45:\n",
    "                            percentage=45-start\n",
    "                            duration= duration-percentage\n",
    "                            energy=energy+((percentage/15)*Train.loc[w,Train.columns[x]]) \n",
    "                            get=True\n",
    "                        elif 45<=start<60 and over>=60:\n",
    "                            percentage=60-start\n",
    "                            duration= duration-percentage\n",
    "                            energy=energy+((percentage/15)*Train.loc[w,Train.columns[x]])\n",
    "                            get=True\n",
    "                        while duration>=0 :\n",
    "                            if get==True:\n",
    "                                w=w+1\n",
    "                                if duration>15: \n",
    "                                    energy=energy+Train.loc[w,Train.columns[x]]\n",
    "                                    duration=duration-15\n",
    "                                else:\n",
    "                                    energy= energy +((duration/15)*Train.loc[w,Train.columns[x]])\n",
    "                                    duration=duration-15\n",
    "                                get=False\n",
    "                            else:\n",
    "                                if duration>15: \n",
    "                                    energy=energy+Train.loc[w,Train.columns[x]]\n",
    "                                    duration=duration-15\n",
    "                                else:\n",
    "                                    energy= energy +((duration/15)*Train.loc[w,Train.columns[x]])\n",
    "                                    duration=duration-15\n",
    "                                w=w+1\n",
    "                        print(TrainLocation.loc[i,\"ril\"])\n",
    "                        print(energy)\n",
    "                        TrainLocation.loc[i,\"Energy\"]=energy\n",
    "                        energy=0\n",
    "                        break\n",
    "TrainLocation.to_excel((r'161.xlsx')"
   ]
  }
 ],
 "metadata": {
  "kernelspec": {
   "display_name": "Python 3",
   "language": "python",
   "name": "python3"
  },
  "language_info": {
   "codemirror_mode": {
    "name": "ipython",
    "version": 3
   },
   "file_extension": ".py",
   "mimetype": "text/x-python",
   "name": "python",
   "nbconvert_exporter": "python",
   "pygments_lexer": "ipython3",
   "version": "3.7.3"
  }
 },
 "nbformat": 4,
 "nbformat_minor": 2
}
