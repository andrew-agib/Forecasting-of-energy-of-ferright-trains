{
 "cells": [
  {
   "cell_type": "code",
   "execution_count": null,
   "metadata": {},
   "outputs": [],
   "source": [
    "import numpy as np # linear algebra\n",
    "import pandas as pd\n",
    "import matplotlib.pyplot as plt\n",
    "%matplotlib inline \n",
    "import seaborn as sns\n",
    "from sklearn.neural_network import MLPRegressor\n",
    "from sklearn.model_selection import train_test_split\n",
    "from sklearn.metrics import accuracy_score\n",
    "from sklearn.metrics import confusion_matrix\n",
    "TrainLocation= pd.read_excel(r'C:\\Users\\49173\\Desktop\\Personal_files\\energy\\iqrremoved.xlsx')"
   ]
  },
  {
   "cell_type": "code",
   "execution_count": null,
   "metadata": {},
   "outputs": [],
   "source": [
    "x= TrainLocation[[\"avg_speed\",\"Inclination\",\"Distance\",\"Weight\",\"Length\",\"TEU_percentage\"]]\n",
    "#x= TrainLocation[[\"avg_speed\",\"Inclination\",\"Distance\"]]\n",
    "y = TrainLocation[\"Recuperated energy\"]"
   ]
  },
  {
   "cell_type": "code",
   "execution_count": null,
   "metadata": {},
   "outputs": [],
   "source": [
    "from sklearn import preprocessing \n",
    "scaler_x =preprocessing.MinMaxScaler( feature_range =(0, 1) ) \n",
    "x = np.array(x).reshape((len (x) ,6) ) \n",
    "x = scaler_x . fit_transform (x)\n",
    "scaler_y =preprocessing.MinMaxScaler( feature_range =(0, 1) ) \n",
    "y = np.array(y).reshape((len (y) ,1 ) ) \n",
    "y = scaler_y . fit_transform (y)\n",
    "x=x.tolist()\n",
    "y=y.tolist()\n",
    "y = np.asarray(y)\n"
   ]
  },
  {
   "cell_type": "markdown",
   "metadata": {},
   "source": [
    "model"
   ]
  },
  {
   "cell_type": "code",
   "execution_count": null,
   "metadata": {},
   "outputs": [],
   "source": [
    "clf = MLPRegressor(hidden_layer_sizes=(6,7,7,5,5), max_iter=1000,  activation='tanh', alpha=0.0001,\n",
    "                        verbose=4,  random_state=21,tol=0.000000001)"
   ]
  },
  {
   "cell_type": "markdown",
   "metadata": {},
   "source": [
    "splitting"
   ]
  },
  {
   "cell_type": "code",
   "execution_count": null,
   "metadata": {},
   "outputs": [],
   "source": [
    "x_train, x_test, y_train, y_test = train_test_split(x,y, test_size= 0.25)"
   ]
  },
  {
   "cell_type": "markdown",
   "metadata": {},
   "source": [
    "trainng"
   ]
  },
  {
   "cell_type": "code",
   "execution_count": null,
   "metadata": {},
   "outputs": [],
   "source": [
    "clf.fit(x_train, y_train.reshape(-1,))\n",
    "y_pred = clf.predict(x_test)"
   ]
  },
  {
   "cell_type": "code",
   "execution_count": null,
   "metadata": {},
   "outputs": [],
   "source": [
    "y_pred=scaler_y.inverse_transform([y_pred])\n",
    "y_test=y_test.reshape(-1,)\n",
    "y_test=scaler_y.inverse_transform([y_test])"
   ]
  },
  {
   "cell_type": "code",
   "execution_count": null,
   "metadata": {},
   "outputs": [],
   "source": [
    "df= pd.DataFrame()\n",
    "for i in range(0,15000):\n",
    "    df.loc[i,\"y_test\"]=y_test[0,i]\n",
    "    df.loc[i,\"y_pred\"]=y_pred[0,i]\n",
    "plt.xlabel('$y_{pred}$ in kwh')\n",
    "plt.ylabel('$y_{test}$ in kwh')\n",
    "plt.plot(df[\"y_pred\"],df[\"y_test\"],'o')\n",
    "plt.title('MLP regression')\n",
    "\n",
    "a=[0,5,10,15,20]\n",
    "b=[0,5,10,15,20]\n",
    "\n",
    "\n",
    "plt.plot(a,b, 'r')\n",
    "plt.title('Recuperated Energy using MLP')\n",
    "plt.savefig(\"completemlef.png\",dpi=300)"
   ]
  }
 ],
 "metadata": {
  "kernelspec": {
   "display_name": "Python 3",
   "language": "python",
   "name": "python3"
  },
  "language_info": {
   "codemirror_mode": {
    "name": "ipython",
    "version": 3
   },
   "file_extension": ".py",
   "mimetype": "text/x-python",
   "name": "python",
   "nbconvert_exporter": "python",
   "pygments_lexer": "ipython3",
   "version": "3.7.3"
  }
 },
 "nbformat": 4,
 "nbformat_minor": 2
}
