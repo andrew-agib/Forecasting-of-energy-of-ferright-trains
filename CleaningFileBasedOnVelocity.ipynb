{
 "cells": [
  {
   "cell_type": "markdown",
   "metadata": {},
   "source": [
    "Reading the file of train location"
   ]
  },
  {
   "cell_type": "code",
   "execution_count": null,
   "metadata": {},
   "outputs": [],
   "source": [
    "import pandas as pd\n",
    "import matplotlib.pyplot as plt\n",
    "import seaborn as sns\n",
    "import xlrd\n",
    "import xlwt\n",
    "import operator\n",
    "import numpy as np\n",
    "import array \n",
    "import operator\n",
    "import datetime\n",
    "from datetime import timedelta\n",
    "TrainLocation= pd.read_excel(r'C:\\Users\\49173\\Desktop\\7.xlsx', parse_dates=[\"ZLM_Istmeldungen\"], day_first=True)\n"
   ]
  },
  {
   "cell_type": "markdown",
   "metadata": {},
   "source": [
    "CLeaning the rows which have time befroe the previous row"
   ]
  },
  {
   "cell_type": "code",
   "execution_count": null,
   "metadata": {},
   "outputs": [],
   "source": [
    "x=0\n",
    "for i in range(0,len(TrainLocation[\"ril 100\"])):\n",
    "    w=float(TrainLocation.loc[i,\"Max_speed\"])\n",
    "    if w < 0:\n",
    "        TrainLocation=TrainLocation.drop([i], axis=0)\n",
    "print(x)"
   ]
  },
  {
   "cell_type": "markdown",
   "metadata": {},
   "source": [
    "Cleaning rows which have time the same as previous ones"
   ]
  },
  {
   "cell_type": "code",
   "execution_count": null,
   "metadata": {},
   "outputs": [],
   "source": [
    "for i in range(0,len(TrainLocation[\"ril 100\"])):\n",
    "    w=float(TrainLocation.loc[i,\"Max_speed\"])\n",
    "    if TrainLocation.loc[i,\"ZLM_Istmeldungen\"]==TrainLocation.loc[i+1,\"ZLM_Istmeldungen\"]:\n",
    "        TrainLocation=TrainLocation.drop([i], axis=0)\n",
    "print(x)"
   ]
  },
  {
   "cell_type": "markdown",
   "metadata": {},
   "source": [
    "Saving the file "
   ]
  },
  {
   "cell_type": "code",
   "execution_count": null,
   "metadata": {},
   "outputs": [],
   "source": [
    "TrainLocation.to_excel(r'C:\\Users\\49173\\Desktop\\9.xlsx')"
   ]
  }
 ],
 "metadata": {
  "kernelspec": {
   "display_name": "Python 3",
   "language": "python",
   "name": "python3"
  },
  "language_info": {
   "codemirror_mode": {
    "name": "ipython",
    "version": 3
   },
   "file_extension": ".py",
   "mimetype": "text/x-python",
   "name": "python",
   "nbconvert_exporter": "python",
   "pygments_lexer": "ipython3",
   "version": "3.7.3"
  }
 },
 "nbformat": 4,
 "nbformat_minor": 2
}
