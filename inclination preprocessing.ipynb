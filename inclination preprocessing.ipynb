{
 "cells": [
  {
   "cell_type": "code",
   "execution_count": null,
   "metadata": {},
   "outputs": [],
   "source": [
    "import pandas as pd\n",
    "import matplotlib.pyplot as plt\n",
    "import seaborn as sns\n",
    "import xlrd\n",
    "import xlwt\n",
    "import operator\n",
    "import numpy as np\n",
    "import array \n",
    "import operator\n",
    "import datetime\n",
    "from datetime import timedelta\n",
    "train=pd.read_excel(r'C:\\Users\\49173\\Desktop\\LocSplit.xlsx')"
   ]
  },
  {
   "cell_type": "code",
   "execution_count": null,
   "metadata": {},
   "outputs": [],
   "source": [
    "q=train['MAX_STRECKENNEIGUNG'].unique()\n",
    "print(q)"
   ]
  },
  {
   "cell_type": "code",
   "execution_count": null,
   "metadata": {},
   "outputs": [],
   "source": [
    "for x in range(1984,len(train['MAX_STRECKENNEIGUNG'])-1):\n",
    "    print(x)\n",
    "    test= train.loc[x,'MAX_STRECKENNEIGUNG']\n",
    "    if test=='auf Anfrage':\n",
    "        train=train.drop(x ,axis=0)"
   ]
  },
  {
   "cell_type": "code",
   "execution_count": null,
   "metadata": {},
   "outputs": [],
   "source": [
    "for x in range(2540,len(train['MAX_STRECKENNEIGUNG'])-1):\n",
    "    print(x)\n",
    "    test= train.loc[2539,'MAX_STRECKENNEIGUNG']\n",
    "    res = [int(i) for i in test.split() if i.isdigit()]\n",
    "    if res[0]==0:\n",
    "        test= train.loc[x,'MAX_STRECKENNEIGUNG']=2.5\n",
    "    if res[0]==5:\n",
    "        test= train.loc[x,'MAX_STRECKENNEIGUNG']=7.5\n",
    "    if res[0]==10:\n",
    "        test= train.loc[x,'MAX_STRECKENNEIGUNG']=12.5\n",
    "    if res[0]==15:\n",
    "        test= train.loc[x,'MAX_STRECKENNEIGUNG']=17.5\n",
    "    if res[0]==20 :\n",
    "        test= train.loc[x,'MAX_STRECKENNEIGUNG']=10\n",
    "    if len(res)>1:\n",
    "        if res[0]==20 and res[1]==25:\n",
    "            test= train.loc[x,'MAX_STRECKENNEIGUNG']=22.5\n",
    "        if res[0]==25 and res[1]==30:\n",
    "            test= train.loc[x,'MAX_STRECKENNEIGUNG']=27.5\n",
    "        if res[0]==30 and res[1]==35:\n",
    "            test= train.loc[x,'MAX_STRECKENNEIGUNG']=32.5\n",
    "        if res[0]==35 and res[1]==40:\n",
    "            test= train.loc[x,'MAX_STRECKENNEIGUNG']=37.5\n",
    "train.head()  "
   ]
  },
  {
   "cell_type": "code",
   "execution_count": null,
   "metadata": {},
   "outputs": [],
   "source": [
    "train.to_excel(r'C:\\Users\\49173\\Desktop\\LocSplited.xlsx')"
   ]
  }
 ],
 "metadata": {
  "kernelspec": {
   "display_name": "Python 3",
   "language": "python",
   "name": "python3"
  },
  "language_info": {
   "codemirror_mode": {
    "name": "ipython",
    "version": 3
   },
   "file_extension": ".py",
   "mimetype": "text/x-python",
   "name": "python",
   "nbconvert_exporter": "python",
   "pygments_lexer": "ipython3",
   "version": "3.7.3"
  }
 },
 "nbformat": 4,
 "nbformat_minor": 2
}
