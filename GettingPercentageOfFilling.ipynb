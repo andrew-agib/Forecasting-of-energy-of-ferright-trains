{
 "cells": [
  {
   "cell_type": "markdown",
   "metadata": {},
   "source": [
    "Readdind trains deserption file"
   ]
  },
  {
   "cell_type": "code",
   "execution_count": null,
   "metadata": {},
   "outputs": [],
   "source": [
    "import pandas as pd\n",
    "import matplotlib.pyplot as plt\n",
    "import seaborn as sns\n",
    "import xlrd\n",
    "import xlwt\n",
    "import operator\n",
    "import numpy as np\n",
    "import array \n",
    "import operator\n",
    "import datetime\n",
    "from datetime import timedelta\n",
    "TrainDesreption=pd.read_excel(r'C:\\Users\\49173\\Desktop\\TrainDesreption.xlsx')"
   ]
  },
  {
   "cell_type": "markdown",
   "metadata": {},
   "source": [
    "Filling empty gaps"
   ]
  },
  {
   "cell_type": "code",
   "execution_count": null,
   "metadata": {},
   "outputs": [],
   "source": [
    "FillTotal=TrainDesreption[\"Summe von total TEU\"].fillna(0)\n",
    "FillAgreed=TrainDesreption[\"Summe von agreed TEU\"].fillna(-1)\n",
    "TrainDesreption[\"Summe von total TEU\"]=FillTotal\n",
    "TrainDesreption[\"Summe von agreed TEU\"]=w\n",
    "                                   "
   ]
  },
  {
   "cell_type": "markdown",
   "metadata": {},
   "source": [
    "Getting perecentage of filling "
   ]
  },
  {
   "cell_type": "code",
   "execution_count": null,
   "metadata": {},
   "outputs": [],
   "source": [
    "for i in range(0,len(TrainDesreption[\"Summe von total TEU\"])):\n",
    "    getFillTotal=float(TrainDesreption.loc[i,\"Summe von total TEU\"])\n",
    "    getFillAgreed=float(TrainDesreption.loc[i,\"Summe von agreed TEU\"])\n",
    "    if e==0:\n",
    "        perecentage=0\n",
    "    else:\n",
    "        percentage=float(getFillTotal/getFillAgreed)\n",
    "    TrainDesreption.loc[i,\"Percentage\"]=percentage\n",
    "    \n"
   ]
  },
  {
   "cell_type": "markdown",
   "metadata": {},
   "source": [
    "Saving the output"
   ]
  },
  {
   "cell_type": "code",
   "execution_count": null,
   "metadata": {},
   "outputs": [],
   "source": [
    "TrainDesreption.to_excel(r'C:\\Users\\49173\\Desktop\\train.xlsx')"
   ]
  }
 ],
 "metadata": {
  "kernelspec": {
   "display_name": "Python 3",
   "language": "python",
   "name": "python3"
  },
  "language_info": {
   "codemirror_mode": {
    "name": "ipython",
    "version": 3
   },
   "file_extension": ".py",
   "mimetype": "text/x-python",
   "name": "python",
   "nbconvert_exporter": "python",
   "pygments_lexer": "ipython3",
   "version": "3.7.3"
  }
 },
 "nbformat": 4,
 "nbformat_minor": 2
}
