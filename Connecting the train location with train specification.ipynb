{
 "cells": [
  {
   "cell_type": "markdown",
   "metadata": {},
   "source": [
    "Importing the required files"
   ]
  },
  {
   "cell_type": "code",
   "execution_count": null,
   "metadata": {},
   "outputs": [],
   "source": [
    "import pandas as pd\n",
    "import matplotlib.pyplot as plt\n",
    "import seaborn as sns\n",
    "import xlrd\n",
    "import xlwt\n",
    "import operator\n",
    "import numpy as np\n",
    "import array \n",
    "import operator\n",
    "import datetime\n",
    "from datetime import timedelta\n",
    "TrainLocation= pd.read_excel(r'C:\\Users\\49173\\Desktop\\5.xlsx', parse_dates=[\"ZLM_Istmeldungen\"], day_first=True)\n",
    "Train=pd.read_excel(r'C:\\Users\\49173\\Desktop\\train.xlsx')"
   ]
  },
  {
   "cell_type": "markdown",
   "metadata": {},
   "source": [
    "Connecting the train location with train specification"
   ]
  },
  {
   "cell_type": "code",
   "execution_count": null,
   "metadata": {
    "scrolled": true
   },
   "outputs": [],
   "source": [
    "for i in range(0,100):\n",
    " \n",
    "    month=(TrainLocation.loc[i,\"ZLM_Istmeldungen\"]).month\n",
    "    print(month)\n",
    "    day=(TrainLocation.loc[i,\"ZLM_Istmeldungen\"]).day\n",
    "    print(day)\n",
    "    number=TrainLocation.loc[i,\"ZL_Zugnummer\"]\n",
    "    print(number) \n",
    "    for x in range(0,len(Train[\"Istab\"])):\n",
    "        tday=(Train.loc[x,\"Istab\"]).day\n",
    "        \n",
    "        tmonth=(Train.loc[x,\"Istab\"]).month\n",
    "        \n",
    "        tnumber=Train.loc[x,\"Zugnummer\"]\n",
    "        \n",
    "        if(day==tday) and (month==tmonth) and (number==tnumber):\n",
    "            print(\"a\")\n",
    "            TrainLocation.loc[i,\"Weight\"]=Train.loc[x,\"Wagenzuggewicht\"]\n",
    "            TrainLocation.loc[i,\"Length\"]=Train.loc[x,\"Wagenzuglänge\"]\n",
    "            TrainLocation.loc[i,\"TEU_percentage\"]=Train.loc[x,\"Percentage\"]\n"
   ]
  },
  {
   "cell_type": "markdown",
   "metadata": {},
   "source": [
    "Saving the file"
   ]
  },
  {
   "cell_type": "code",
   "execution_count": null,
   "metadata": {},
   "outputs": [],
   "source": [
    "df=TrainLocation"
   ]
  },
  {
   "cell_type": "code",
   "execution_count": null,
   "metadata": {},
   "outputs": [],
   "source": [
    "df.to_excel(r'C:\\Users\\49173\\Desktop\\7.xlsx')"
   ]
  },
  {
   "cell_type": "code",
   "execution_count": null,
   "metadata": {},
   "outputs": [],
   "source": []
  }
 ],
 "metadata": {
  "kernelspec": {
   "display_name": "Python 3",
   "language": "python",
   "name": "python3"
  },
  "language_info": {
   "codemirror_mode": {
    "name": "ipython",
    "version": 3
   },
   "file_extension": ".py",
   "mimetype": "text/x-python",
   "name": "python",
   "nbconvert_exporter": "python",
   "pygments_lexer": "ipython3",
   "version": "3.7.3"
  }
 },
 "nbformat": 4,
 "nbformat_minor": 2
}
