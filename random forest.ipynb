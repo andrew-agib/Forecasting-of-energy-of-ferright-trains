{
 "cells": [
  {
   "cell_type": "code",
   "execution_count": null,
   "metadata": {},
   "outputs": [],
   "source": [
    "import numpy as np\n",
    "import matplotlib.pyplot as plt\n",
    "from sklearn.pipeline import Pipeline, make_pipeline\n",
    "import pandas as pd\n",
    "import xlrd\n",
    "import xlwt\n",
    "import operator\n",
    "import array \n",
    "import operator\n",
    "import pandas as pd\n",
    "from scipy import stats\n",
    "from sklearn import preprocessing\n",
    "#from sklearn import cross_validation\n",
    "from sklearn.model_selection import train_test_split\n",
    "from sklearn.neural_network import MLPRegressor\n",
    "from sklearn.metrics import accuracy_score\n",
    "from sklearn.metrics import confusion_matrix\n",
    "from sklearn.ensemble import RandomForestRegressor\n",
    "from sklearn.metrics import mean_absolute_error \n",
    "TrainLocation= pd.read_excel(r'C:\\Users\\49173\\Desktop\\Personal_files\\energy\\iqrremoved.xlsx')"
   ]
  },
  {
   "cell_type": "markdown",
   "metadata": {},
   "source": [
    "features and target"
   ]
  },
  {
   "cell_type": "code",
   "execution_count": null,
   "metadata": {},
   "outputs": [],
   "source": [
    "x= TrainLocation[[\"avg_speed\",\"Inclination\",\"Distance\",\"Weight\",\"Length\",\"TEU_percentage\"]]\n",
    "#x= TrainLocation[[\"avg_speed\",\"Inclination\",\"Distance\"]]\n",
    "y = TrainLocation[\"Recuperated energy\"]"
   ]
  },
  {
   "cell_type": "markdown",
   "metadata": {},
   "source": [
    "splitting"
   ]
  },
  {
   "cell_type": "code",
   "execution_count": null,
   "metadata": {},
   "outputs": [],
   "source": [
    "x_train, x_test, y_train, y_test = train_test_split(x,y, test_size= 0.25)\n"
   ]
  },
  {
   "cell_type": "markdown",
   "metadata": {},
   "source": [
    "training"
   ]
  },
  {
   "cell_type": "code",
   "execution_count": null,
   "metadata": {},
   "outputs": [],
   "source": [
    "model = RandomForestRegressor()\n",
    "model.fit(x_train,y_train )\n",
    "\n",
    "# Get the mean absolute error on the validation data\n",
    "predicted_prices = model.predict(x_test)\n",
    "MAE = mean_absolute_error(y_test , predicted_prices)\n",
    "print('Random forest validation MAE = ', MAE)"
   ]
  },
  {
   "cell_type": "code",
   "execution_count": null,
   "metadata": {},
   "outputs": [],
   "source": [
    "y_test=y_test.tolist()\n",
    "from sklearn.metrics import r2_score\n",
    "r2_score(y_test, predicted_prices)\n",
    "\n"
   ]
  },
  {
   "cell_type": "code",
   "execution_count": null,
   "metadata": {},
   "outputs": [],
   "source": [
    "predicted_prices.reshape(-1,)\n",
    "plt.xlabel('$y_{pred}$ in kwh')\n",
    "plt.ylabel('$y_{test}$ in kwh')\n",
    "a=[0,10,20,30,40,50]\n",
    "b=[0,10,20,30,40,50]\n",
    "plt.plot(predicted_prices,y_test,'o')\n",
    "plt.plot(a,b,'red')\n",
    "plt.title('Recuperated energy using random forest')\n",
    "plt.savefig(\"RrandomCOMPLETEef.png\",dpi=300)"
   ]
  }
 ],
 "metadata": {
  "kernelspec": {
   "display_name": "Python 3",
   "language": "python",
   "name": "python3"
  },
  "language_info": {
   "codemirror_mode": {
    "name": "ipython",
    "version": 3
   },
   "file_extension": ".py",
   "mimetype": "text/x-python",
   "name": "python",
   "nbconvert_exporter": "python",
   "pygments_lexer": "ipython3",
   "version": "3.7.3"
  }
 },
 "nbformat": 4,
 "nbformat_minor": 2
}
